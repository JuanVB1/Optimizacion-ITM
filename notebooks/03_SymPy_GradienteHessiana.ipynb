{
  "nbformat": 4,
  "nbformat_minor": 0,
  "metadata": {
    "colab": {
      "provenance": []
    },
    "kernelspec": {
      "name": "python3",
      "display_name": "Python 3"
    },
    "language_info": {
      "name": "python"
    }
  },
  "cells": [
    {
      "cell_type": "markdown",
      "source": [
        "# Solución Problema Optimizacion - SymPy\n",
        "Empezamos importando las librerias"
      ],
      "metadata": {
        "id": "_bFhZHH07nxm"
      }
    },
    {
      "cell_type": "code",
      "execution_count": 9,
      "metadata": {
        "id": "vp6yVWg33e6a"
      },
      "outputs": [],
      "source": [
        "from sympy import Matrix, symbols, solve\n",
        "x, y = symbols('x, y')"
      ]
    },
    {
      "cell_type": "markdown",
      "source": [
        "$f(x)=x_{1}^{4}+x_{1}^{2}\\left(1-2 x_{2}\\right)+2 x_{2}^{2}-2 x_{1} x_{2}+4.5 x_{1}-4 x_{2}+4$"
      ],
      "metadata": {
        "id": "Eftxj5Ld-sWJ"
      }
    },
    {
      "cell_type": "code",
      "source": [
        "f = x**4 + x**2*(1-2*y) + 2*y**2 - 2*x*y + 4.5*x - 4*y + 4"
      ],
      "metadata": {
        "id": "a_MnPKXI-tUB"
      },
      "execution_count": null,
      "outputs": []
    },
    {
      "cell_type": "markdown",
      "source": [
        "Calculamos el gradiente"
      ],
      "metadata": {
        "id": "Vg-LNZrG-nB6"
      }
    },
    {
      "cell_type": "code",
      "source": [
        "Df = Matrix([f]).jacobian(Matrix(list(f.free_symbols)))\n",
        "Df"
      ],
      "metadata": {
        "colab": {
          "base_uri": "https://localhost:8080/",
          "height": 38
        },
        "id": "ie8-AkCS3qna",
        "outputId": "b5d6e213-cbd7-4bd9-bd9c-581f7f629457"
      },
      "execution_count": 10,
      "outputs": [
        {
          "output_type": "execute_result",
          "data": {
            "text/plain": [
              "Matrix([[4*x**3 + 2*x*(1 - 2*y) - 2*y + 4.5, -2*x**2 - 2*x + 4*y - 4]])"
            ],
            "text/latex": "$\\displaystyle \\left[\\begin{matrix}4 x^{3} + 2 x \\left(1 - 2 y\\right) - 2 y + 4.5 & - 2 x^{2} - 2 x + 4 y - 4\\end{matrix}\\right]$"
          },
          "metadata": {},
          "execution_count": 10
        }
      ]
    },
    {
      "cell_type": "markdown",
      "source": [
        "Encontramos la solucion para $∇f = \\mathbf{0}$"
      ],
      "metadata": {
        "id": "obyEZyar-4HY"
      }
    },
    {
      "cell_type": "code",
      "source": [
        "estaf = solve(Df, [x, y], dict=True)\n",
        "estaf"
      ],
      "metadata": {
        "colab": {
          "base_uri": "https://localhost:8080/"
        },
        "id": "C0LX-BhE36jw",
        "outputId": "684e92bc-9cf9-4682-b128-7aa13fa1960b"
      },
      "execution_count": 24,
      "outputs": [
        {
          "output_type": "execute_result",
          "data": {
            "text/plain": [
              "[{x: -1.05274130826315, y: 1.02776147693023 + 0.e-23*I},\n",
              " {x: 0.611731035834618, y: 1.49297294801896 + 0.e-20*I},\n",
              " {x: 1.94101027242853 - 2.71050543121376e-20*I,\n",
              "  y: 3.85426557505081 - 0.e-22*I}]"
            ]
          },
          "metadata": {},
          "execution_count": 24
        }
      ]
    },
    {
      "cell_type": "markdown",
      "source": [
        "Calculamos la Hessiana"
      ],
      "metadata": {
        "id": "x8ZTkNYB_CSH"
      }
    },
    {
      "cell_type": "code",
      "source": [
        "Df2 = Df.jacobian(Matrix(list(f.free_symbols)))\n",
        "Df2"
      ],
      "metadata": {
        "colab": {
          "base_uri": "https://localhost:8080/",
          "height": 58
        },
        "id": "n8bqjt1p4Zqh",
        "outputId": "c49da61e-9e38-4f46-910a-69785a9a6225"
      },
      "execution_count": 14,
      "outputs": [
        {
          "output_type": "execute_result",
          "data": {
            "text/plain": [
              "Matrix([\n",
              "[12*x**2 - 4*y + 2, -4*x - 2],\n",
              "[         -4*x - 2,        4]])"
            ],
            "text/latex": "$\\displaystyle \\left[\\begin{matrix}12 x^{2} - 4 y + 2 & - 4 x - 2\\\\- 4 x - 2 & 4\\end{matrix}\\right]$"
          },
          "metadata": {},
          "execution_count": 14
        }
      ]
    },
    {
      "cell_type": "markdown",
      "source": [
        "Sustituimos en cada uno de los puntos estacionarios que se encontraron previamente"
      ],
      "metadata": {
        "id": "QcBctEVH_HA7"
      }
    },
    {
      "cell_type": "code",
      "source": [
        "Df2.subs(estaf[0]).eigenvals()"
      ],
      "metadata": {
        "colab": {
          "base_uri": "https://localhost:8080/"
        },
        "id": "b-21bAF99NLn",
        "outputId": "41df2e0f-0424-4736-d0e4-6a2aec70b140"
      },
      "execution_count": 32,
      "outputs": [
        {
          "output_type": "execute_result",
          "data": {
            "text/plain": [
              "{11.813737176262 - 9.80302618643755e-23*I: 1,\n",
              " 3.37438806150044 - 7.848856542412e-24*I: 1}"
            ]
          },
          "metadata": {},
          "execution_count": 32
        }
      ]
    },
    {
      "cell_type": "code",
      "source": [
        "Df2.subs(estaf[1]).eigenvals()"
      ],
      "metadata": {
        "colab": {
          "base_uri": "https://localhost:8080/"
        },
        "id": "vNWHiT-w8Uo3",
        "outputId": "43f85c38-f543-4266-9b04-3fd0e689491c"
      },
      "execution_count": 33,
      "outputs": [
        {
          "output_type": "execute_result",
          "data": {
            "text/plain": [
              "{-2.51611694353881 - 1.84924275294271e-20*I: 1,\n",
              " 7.03480347390251 - 8.61262678271049e-21*I: 1}"
            ]
          },
          "metadata": {},
          "execution_count": 33
        }
      ]
    },
    {
      "cell_type": "code",
      "source": [
        "Df2.subs(estaf[2]).eigenvals()"
      ],
      "metadata": {
        "colab": {
          "base_uri": "https://localhost:8080/"
        },
        "id": "HCZTDVGH9ZbH",
        "outputId": "bdaeeedf-2e58-4f80-a9b2-cad008102b51"
      },
      "execution_count": 34,
      "outputs": [
        {
          "output_type": "execute_result",
          "data": {
            "text/plain": [
              "{34.8804637110769 - 1.20869731539304e-18*I: 1,\n",
              " 0.912724520796989 - 5.22771512226742e-20*I: 1}"
            ]
          },
          "metadata": {},
          "execution_count": 34
        }
      ]
    },
    {
      "cell_type": "code",
      "source": [],
      "metadata": {
        "id": "2_BDoekb9az_"
      },
      "execution_count": null,
      "outputs": []
    }
  ]
}